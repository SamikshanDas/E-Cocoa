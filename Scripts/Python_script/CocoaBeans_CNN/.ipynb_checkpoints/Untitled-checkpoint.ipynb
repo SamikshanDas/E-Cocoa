{
 "cells": [
  {
   "cell_type": "code",
   "execution_count": 8,
   "id": "0d3b8e6b",
   "metadata": {},
   "outputs": [],
   "source": [
    "import matplotlib.pyplot as plt\n",
    "import numpy as np\n",
    "import cv2\n",
    "import os\n",
    "import PIL\n",
    "import tensorflow as tf\n",
    "import pathlib\n",
    "from tensorflow import keras\n",
    "from tensorflow.keras import layers\n",
    "from tensorflow.keras.models import Sequential\n",
    "from sklearn.model_selection import train_test_split"
   ]
  },
  {
   "cell_type": "code",
   "execution_count": 2,
   "id": "1eec7aad",
   "metadata": {},
   "outputs": [],
   "source": [
    "data_dir=pathlib.Path('imagebase')"
   ]
  },
  {
   "cell_type": "code",
   "execution_count": 3,
   "id": "a320f45e",
   "metadata": {},
   "outputs": [
    {
     "data": {
      "text/plain": [
       "1200"
      ]
     },
     "execution_count": 3,
     "metadata": {},
     "output_type": "execute_result"
    }
   ],
   "source": [
    "total=len(list(data_dir.glob(\"*/*.png\")))\n",
    "total"
   ]
  },
  {
   "cell_type": "code",
   "execution_count": 4,
   "id": "15b423c1",
   "metadata": {},
   "outputs": [],
   "source": [
    "image_dict={\n",
    "    'large': list(data_dir.glob('Large/*')),\n",
    "    'medium': list(data_dir.glob('Medium/*')),\n",
    "    'small': list(data_dir.glob('Small/*')),\n",
    "    'rejected': list(data_dir.glob('Rejected/*')),\n",
    "}"
   ]
  },
  {
   "cell_type": "code",
   "execution_count": 5,
   "id": "c5b18bed",
   "metadata": {},
   "outputs": [],
   "source": [
    "class_labels_dict={\n",
    "    'rejected': 0,\n",
    "    'small': 1,\n",
    "    'medium': 2,\n",
    "    'large': 3,\n",
    "}"
   ]
  },
  {
   "cell_type": "code",
   "execution_count": 6,
   "id": "b14c9283",
   "metadata": {},
   "outputs": [],
   "source": [
    "x,y=[],[]\n",
    "for label,images in image_dict.items():\n",
    "    for image in images:\n",
    "        img=cv2.imread(str(image))\n",
    "        resized=cv2.resize(img,(200,200))\n",
    "        x.append(resized)\n",
    "        y.append(class_labels_dict[label])"
   ]
  },
  {
   "cell_type": "code",
   "execution_count": 7,
   "id": "50746db1",
   "metadata": {},
   "outputs": [],
   "source": [
    "X=np.array(x)\n",
    "Y=np.array(y)"
   ]
  },
  {
   "cell_type": "code",
   "execution_count": 9,
   "id": "17e69036",
   "metadata": {},
   "outputs": [],
   "source": [
    "X_train, X_test, y_train, y_test = train_test_split(X, Y, test_size=0.25, random_state=4)"
   ]
  },
  {
   "cell_type": "code",
   "execution_count": 10,
   "id": "1fc6b2b4",
   "metadata": {},
   "outputs": [],
   "source": [
    "X_train_scaled = X_train / 255\n",
    "X_test_scaled = X_test / 255"
   ]
  },
  {
   "cell_type": "code",
   "execution_count": 17,
   "id": "28ce20b1",
   "metadata": {},
   "outputs": [
    {
     "name": "stdout",
     "output_type": "stream",
     "text": [
      "Epoch 1/30\n",
      "29/29 [==============================] - 13s 368ms/step - loss: 1.7311 - accuracy: 0.3633\n",
      "Epoch 2/30\n",
      "29/29 [==============================] - 11s 363ms/step - loss: 0.9772 - accuracy: 0.5600\n",
      "Epoch 3/30\n",
      "29/29 [==============================] - 10s 359ms/step - loss: 0.7988 - accuracy: 0.6411\n",
      "Epoch 4/30\n",
      "29/29 [==============================] - 11s 375ms/step - loss: 0.7033 - accuracy: 0.7033\n",
      "Epoch 5/30\n",
      "29/29 [==============================] - 12s 420ms/step - loss: 0.4772 - accuracy: 0.8278\n",
      "Epoch 6/30\n",
      "29/29 [==============================] - 11s 385ms/step - loss: 0.5118 - accuracy: 0.7922\n",
      "Epoch 7/30\n",
      "29/29 [==============================] - 11s 363ms/step - loss: 0.3895 - accuracy: 0.8478\n",
      "Epoch 8/30\n",
      "29/29 [==============================] - 11s 362ms/step - loss: 0.3428 - accuracy: 0.8733\n",
      "Epoch 9/30\n",
      "29/29 [==============================] - 11s 367ms/step - loss: 0.3764 - accuracy: 0.8556\n",
      "Epoch 10/30\n",
      "29/29 [==============================] - 11s 365ms/step - loss: 0.4042 - accuracy: 0.8378\n",
      "Epoch 11/30\n",
      "29/29 [==============================] - 11s 366ms/step - loss: 0.2885 - accuracy: 0.8900\n",
      "Epoch 12/30\n",
      "29/29 [==============================] - 10s 362ms/step - loss: 0.2427 - accuracy: 0.9078\n",
      "Epoch 13/30\n",
      "29/29 [==============================] - 10s 355ms/step - loss: 0.2315 - accuracy: 0.9100\n",
      "Epoch 14/30\n",
      "29/29 [==============================] - 11s 363ms/step - loss: 0.2037 - accuracy: 0.9344\n",
      "Epoch 15/30\n",
      "29/29 [==============================] - 10s 358ms/step - loss: 0.2080 - accuracy: 0.9156\n",
      "Epoch 16/30\n",
      "29/29 [==============================] - 11s 371ms/step - loss: 0.1817 - accuracy: 0.9300\n",
      "Epoch 17/30\n",
      "29/29 [==============================] - 11s 367ms/step - loss: 0.1292 - accuracy: 0.9567\n",
      "Epoch 18/30\n",
      "29/29 [==============================] - 11s 366ms/step - loss: 0.1074 - accuracy: 0.9667\n",
      "Epoch 19/30\n",
      "29/29 [==============================] - 10s 360ms/step - loss: 0.0864 - accuracy: 0.9767\n",
      "Epoch 20/30\n",
      "29/29 [==============================] - 11s 364ms/step - loss: 0.0733 - accuracy: 0.9744\n",
      "Epoch 21/30\n",
      "29/29 [==============================] - 11s 363ms/step - loss: 0.0598 - accuracy: 0.9822\n",
      "Epoch 22/30\n",
      "29/29 [==============================] - 11s 363ms/step - loss: 0.0511 - accuracy: 0.9833\n",
      "Epoch 23/30\n",
      "29/29 [==============================] - 11s 362ms/step - loss: 0.0421 - accuracy: 0.9878\n",
      "Epoch 24/30\n",
      "29/29 [==============================] - 10s 358ms/step - loss: 0.0386 - accuracy: 0.9922\n",
      "Epoch 25/30\n",
      "29/29 [==============================] - 11s 364ms/step - loss: 0.0250 - accuracy: 0.9933\n",
      "Epoch 26/30\n",
      "29/29 [==============================] - 10s 361ms/step - loss: 0.0169 - accuracy: 0.9967\n",
      "Epoch 27/30\n",
      "29/29 [==============================] - 11s 363ms/step - loss: 0.0080 - accuracy: 1.0000\n",
      "Epoch 28/30\n",
      "29/29 [==============================] - 10s 360ms/step - loss: 0.0055 - accuracy: 1.0000\n",
      "Epoch 29/30\n",
      "29/29 [==============================] - 11s 372ms/step - loss: 0.0043 - accuracy: 1.0000\n",
      "Epoch 30/30\n",
      "29/29 [==============================] - 11s 365ms/step - loss: 0.0045 - accuracy: 0.9989\n"
     ]
    },
    {
     "data": {
      "text/plain": [
       "<tensorflow.python.keras.callbacks.History at 0x21ff9450b50>"
      ]
     },
     "execution_count": 17,
     "metadata": {},
     "output_type": "execute_result"
    }
   ],
   "source": [
    "num_classes = 4\n",
    "\n",
    "model = Sequential([\n",
    "    layers.Conv2D(16, 3, strides=1, padding='same', activation='relu'),\n",
    "    layers.MaxPooling2D(),\n",
    "    layers.Conv2D(32, 3, strides=1, padding='same', activation='relu'),\n",
    "    layers.MaxPooling2D(),\n",
    "    layers.Conv2D(64, 3, strides=1, padding='same', activation='relu'),\n",
    "    layers.MaxPooling2D(),\n",
    "    #layers.Conv2D(128, 3, strides=1, padding='same', activation='relu'),\n",
    "    #layers.MaxPooling2D(),\n",
    "    layers.Flatten(),\n",
    "    layers.Dense(256, activation='relu'),\n",
    "    layers.Dense(num_classes, activation='softmax')\n",
    "])\n",
    "\n",
    "model.compile(optimizer='adam',\n",
    "              loss=tf.keras.losses.SparseCategoricalCrossentropy(),\n",
    "              metrics=['accuracy'])\n",
    "model.fit(X_train_scaled, y_train, epochs=30) "
   ]
  },
  {
   "cell_type": "code",
   "execution_count": 18,
   "id": "8e25cf13",
   "metadata": {},
   "outputs": [
    {
     "name": "stdout",
     "output_type": "stream",
     "text": [
      "Model: \"sequential_2\"\n",
      "_________________________________________________________________\n",
      "Layer (type)                 Output Shape              Param #   \n",
      "=================================================================\n",
      "conv2d_6 (Conv2D)            (None, 200, 200, 16)      448       \n",
      "_________________________________________________________________\n",
      "max_pooling2d_6 (MaxPooling2 (None, 100, 100, 16)      0         \n",
      "_________________________________________________________________\n",
      "conv2d_7 (Conv2D)            (None, 100, 100, 32)      4640      \n",
      "_________________________________________________________________\n",
      "max_pooling2d_7 (MaxPooling2 (None, 50, 50, 32)        0         \n",
      "_________________________________________________________________\n",
      "conv2d_8 (Conv2D)            (None, 50, 50, 64)        18496     \n",
      "_________________________________________________________________\n",
      "max_pooling2d_8 (MaxPooling2 (None, 25, 25, 64)        0         \n",
      "_________________________________________________________________\n",
      "flatten_2 (Flatten)          (None, 40000)             0         \n",
      "_________________________________________________________________\n",
      "dense_4 (Dense)              (None, 256)               10240256  \n",
      "_________________________________________________________________\n",
      "dense_5 (Dense)              (None, 4)                 1028      \n",
      "=================================================================\n",
      "Total params: 10,264,868\n",
      "Trainable params: 10,264,868\n",
      "Non-trainable params: 0\n",
      "_________________________________________________________________\n"
     ]
    }
   ],
   "source": [
    "model.summary()"
   ]
  },
  {
   "cell_type": "code",
   "execution_count": 16,
   "id": "3d8e220d",
   "metadata": {},
   "outputs": [
    {
     "name": "stdout",
     "output_type": "stream",
     "text": [
      "10/10 [==============================] - 1s 82ms/step - loss: 1.6290 - accuracy: 0.7400\n"
     ]
    },
    {
     "data": {
      "text/plain": [
       "[1.6290122270584106, 0.7400000095367432]"
      ]
     },
     "execution_count": 16,
     "metadata": {},
     "output_type": "execute_result"
    }
   ],
   "source": [
    "model.evaluate(X_test_scaled,y_test)"
   ]
  },
  {
   "cell_type": "code",
   "execution_count": null,
   "id": "b92de808",
   "metadata": {},
   "outputs": [],
   "source": []
  }
 ],
 "metadata": {
  "kernelspec": {
   "display_name": "Python 3 (ipykernel)",
   "language": "python",
   "name": "python3"
  },
  "language_info": {
   "codemirror_mode": {
    "name": "ipython",
    "version": 3
   },
   "file_extension": ".py",
   "mimetype": "text/x-python",
   "name": "python",
   "nbconvert_exporter": "python",
   "pygments_lexer": "ipython3",
   "version": "3.9.12"
  }
 },
 "nbformat": 4,
 "nbformat_minor": 5
}

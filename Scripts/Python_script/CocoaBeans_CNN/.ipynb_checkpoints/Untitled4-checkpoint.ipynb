{
 "cells": [
  {
   "cell_type": "code",
   "execution_count": 1,
   "id": "4daa142c",
   "metadata": {},
   "outputs": [],
   "source": [
    "import matplotlib.pyplot as plt\n",
    "import numpy as np\n",
    "import cv2\n",
    "import os\n",
    "import PIL\n",
    "import tensorflow as tf\n",
    "import pathlib\n",
    "from tensorflow import keras\n",
    "from tensorflow.keras import layers\n",
    "from tensorflow.keras.models import Sequential\n",
    "from sklearn.model_selection import train_test_split"
   ]
  },
  {
   "cell_type": "code",
   "execution_count": 2,
   "id": "20766a10",
   "metadata": {},
   "outputs": [
    {
     "data": {
      "text/plain": [
       "1200"
      ]
     },
     "execution_count": 2,
     "metadata": {},
     "output_type": "execute_result"
    }
   ],
   "source": [
    "data_dir=pathlib.Path('imagebase')\n",
    "\n",
    "total=len(list(data_dir.glob(\"*/*.png\")))\n",
    "total"
   ]
  },
  {
   "cell_type": "code",
   "execution_count": 3,
   "id": "133297eb",
   "metadata": {},
   "outputs": [],
   "source": [
    "image_dict={\n",
    "    'large': list(data_dir.glob('Large/*')),\n",
    "    'medium': list(data_dir.glob('Medium/*')),\n",
    "    'small': list(data_dir.glob('Small/*')),\n",
    "    'rejected': list(data_dir.glob('Rejected/*')),\n",
    "}\n",
    "\n",
    "class_labels_dict={\n",
    "    'rejected': 0,\n",
    "    'small': 1,\n",
    "    'medium': 2,\n",
    "    'large': 3,\n",
    "}\n",
    "\n",
    "x,y=[],[]\n",
    "for label,images in image_dict.items():\n",
    "    for image in images:\n",
    "        img=cv2.imread(str(image))\n",
    "        resized=cv2.resize(img,(200,200))\n",
    "        x.append(resized)\n",
    "        y.append(class_labels_dict[label])\n",
    "\n",
    "X=np.array(x)\n",
    "Y=np.array(y)\n",
    "\n",
    "X_train, X_test, y_train, y_test = train_test_split(X, Y, test_size=0.25, random_state=4)\n",
    "\n",
    "X_train_scaled = X_train / 255\n",
    "X_test_scaled = X_test / 255"
   ]
  },
  {
   "cell_type": "code",
   "execution_count": 4,
   "id": "9e24ef43",
   "metadata": {},
   "outputs": [
    {
     "name": "stdout",
     "output_type": "stream",
     "text": [
      "Epoch 1/40\n",
      "29/29 [==============================] - 11s 336ms/step - loss: 1.3267 - accuracy: 0.3144\n",
      "Epoch 2/40\n",
      "29/29 [==============================] - 10s 346ms/step - loss: 1.0639 - accuracy: 0.4944\n",
      "Epoch 3/40\n",
      "29/29 [==============================] - 10s 343ms/step - loss: 0.7036 - accuracy: 0.7200\n",
      "Epoch 4/40\n",
      "29/29 [==============================] - 10s 344ms/step - loss: 0.5816 - accuracy: 0.7656\n",
      "Epoch 5/40\n",
      "29/29 [==============================] - 10s 342ms/step - loss: 0.4711 - accuracy: 0.8144\n",
      "Epoch 6/40\n",
      "29/29 [==============================] - 11s 390ms/step - loss: 0.3869 - accuracy: 0.8511\n",
      "Epoch 7/40\n",
      "29/29 [==============================] - 11s 364ms/step - loss: 0.4175 - accuracy: 0.8344\n",
      "Epoch 8/40\n",
      "29/29 [==============================] - 10s 362ms/step - loss: 0.3660 - accuracy: 0.8578\n",
      "Epoch 9/40\n",
      "29/29 [==============================] - 10s 348ms/step - loss: 0.3320 - accuracy: 0.8622\n",
      "Epoch 10/40\n",
      "29/29 [==============================] - 10s 348ms/step - loss: 0.3125 - accuracy: 0.8667\n",
      "Epoch 11/40\n",
      "29/29 [==============================] - 10s 356ms/step - loss: 0.2704 - accuracy: 0.8911\n",
      "Epoch 12/40\n",
      "29/29 [==============================] - 10s 352ms/step - loss: 0.2339 - accuracy: 0.9022\n",
      "Epoch 13/40\n",
      "29/29 [==============================] - 10s 349ms/step - loss: 0.2975 - accuracy: 0.8811\n",
      "Epoch 14/40\n",
      "29/29 [==============================] - 11s 378ms/step - loss: 0.3353 - accuracy: 0.8544\n",
      "Epoch 15/40\n",
      "29/29 [==============================] - 11s 366ms/step - loss: 0.2774 - accuracy: 0.8900\n",
      "Epoch 16/40\n",
      "29/29 [==============================] - 10s 353ms/step - loss: 0.2006 - accuracy: 0.9244\n",
      "Epoch 17/40\n",
      "29/29 [==============================] - 11s 363ms/step - loss: 0.1847 - accuracy: 0.9322\n",
      "Epoch 18/40\n",
      "29/29 [==============================] - 10s 352ms/step - loss: 0.1690 - accuracy: 0.9389\n",
      "Epoch 19/40\n",
      "29/29 [==============================] - 11s 373ms/step - loss: 0.1794 - accuracy: 0.9311\n",
      "Epoch 20/40\n",
      "29/29 [==============================] - 10s 354ms/step - loss: 0.5351 - accuracy: 0.7933\n",
      "Epoch 21/40\n",
      "29/29 [==============================] - 10s 343ms/step - loss: 0.2013 - accuracy: 0.9289\n",
      "Epoch 22/40\n",
      "29/29 [==============================] - 10s 334ms/step - loss: 0.1397 - accuracy: 0.9489\n",
      "Epoch 23/40\n",
      "29/29 [==============================] - 10s 332ms/step - loss: 0.1259 - accuracy: 0.9533\n",
      "Epoch 24/40\n",
      "29/29 [==============================] - 10s 345ms/step - loss: 0.0908 - accuracy: 0.9678\n",
      "Epoch 25/40\n",
      "29/29 [==============================] - 10s 334ms/step - loss: 0.0924 - accuracy: 0.9711\n",
      "Epoch 26/40\n",
      "29/29 [==============================] - 10s 334ms/step - loss: 0.0766 - accuracy: 0.9700\n",
      "Epoch 27/40\n",
      "29/29 [==============================] - 10s 338ms/step - loss: 0.0625 - accuracy: 0.9789\n",
      "Epoch 28/40\n",
      "29/29 [==============================] - 10s 340ms/step - loss: 0.0561 - accuracy: 0.9833\n",
      "Epoch 29/40\n",
      "29/29 [==============================] - 10s 337ms/step - loss: 0.1017 - accuracy: 0.9622\n",
      "Epoch 30/40\n",
      "29/29 [==============================] - 10s 337ms/step - loss: 0.1698 - accuracy: 0.9278\n",
      "Epoch 31/40\n",
      "29/29 [==============================] - 10s 338ms/step - loss: 0.0807 - accuracy: 0.9711\n",
      "Epoch 32/40\n",
      "29/29 [==============================] - 10s 340ms/step - loss: 0.0577 - accuracy: 0.9800\n",
      "Epoch 33/40\n",
      "29/29 [==============================] - 10s 340ms/step - loss: 0.0539 - accuracy: 0.9789\n",
      "Epoch 34/40\n",
      "29/29 [==============================] - 10s 343ms/step - loss: 0.0312 - accuracy: 0.9900\n",
      "Epoch 35/40\n",
      "29/29 [==============================] - 10s 334ms/step - loss: 0.0249 - accuracy: 0.9933\n",
      "Epoch 36/40\n",
      "29/29 [==============================] - 10s 338ms/step - loss: 0.0158 - accuracy: 0.9978\n",
      "Epoch 37/40\n",
      "29/29 [==============================] - 10s 342ms/step - loss: 0.0087 - accuracy: 0.9989\n",
      "Epoch 38/40\n",
      "29/29 [==============================] - 10s 339ms/step - loss: 0.0089 - accuracy: 0.9989\n",
      "Epoch 39/40\n",
      "29/29 [==============================] - 10s 335ms/step - loss: 0.0057 - accuracy: 1.0000\n",
      "Epoch 40/40\n",
      "29/29 [==============================] - 10s 341ms/step - loss: 0.0044 - accuracy: 0.9989\n"
     ]
    },
    {
     "data": {
      "text/plain": [
       "<tensorflow.python.keras.callbacks.History at 0x1af2d606a60>"
      ]
     },
     "execution_count": 4,
     "metadata": {},
     "output_type": "execute_result"
    }
   ],
   "source": [
    "\n",
    "num_classes = 4\n",
    "\n",
    "model = Sequential([\n",
    "    layers.Conv2D(16, 3, strides=1, padding='same', activation='relu'),\n",
    "    layers.MaxPooling2D(),\n",
    "    layers.Conv2D(32, 3, strides=1, padding='same', activation='relu'),\n",
    "    layers.MaxPooling2D(),\n",
    "    layers.Conv2D(64, 3, strides=1, padding='same', activation='relu'),\n",
    "    layers.MaxPooling2D(),\n",
    "    layers.Conv2D(128, 3, strides=1, padding='same', activation='relu'),\n",
    "    layers.MaxPooling2D(),\n",
    "    layers.Flatten(),\n",
    "    layers.Dense(512, activation='relu'),\n",
    "    layers.Dense(num_classes, activation='softmax')\n",
    "])\n",
    "\n",
    "model.compile(optimizer='adam',\n",
    "              loss=tf.keras.losses.SparseCategoricalCrossentropy(),\n",
    "              metrics=['accuracy'])\n",
    "model.fit(X_train_scaled, y_train, epochs=50) "
   ]
  },
  {
   "cell_type": "code",
   "execution_count": 5,
   "id": "78cfbfcf",
   "metadata": {},
   "outputs": [
    {
     "name": "stdout",
     "output_type": "stream",
     "text": [
      "Model: \"sequential\"\n",
      "_________________________________________________________________\n",
      "Layer (type)                 Output Shape              Param #   \n",
      "=================================================================\n",
      "conv2d (Conv2D)              (None, 200, 200, 16)      448       \n",
      "_________________________________________________________________\n",
      "max_pooling2d (MaxPooling2D) (None, 100, 100, 16)      0         \n",
      "_________________________________________________________________\n",
      "conv2d_1 (Conv2D)            (None, 100, 100, 32)      4640      \n",
      "_________________________________________________________________\n",
      "max_pooling2d_1 (MaxPooling2 (None, 50, 50, 32)        0         \n",
      "_________________________________________________________________\n",
      "conv2d_2 (Conv2D)            (None, 50, 50, 64)        18496     \n",
      "_________________________________________________________________\n",
      "max_pooling2d_2 (MaxPooling2 (None, 25, 25, 64)        0         \n",
      "_________________________________________________________________\n",
      "conv2d_3 (Conv2D)            (None, 25, 25, 128)       73856     \n",
      "_________________________________________________________________\n",
      "max_pooling2d_3 (MaxPooling2 (None, 12, 12, 128)       0         \n",
      "_________________________________________________________________\n",
      "flatten (Flatten)            (None, 18432)             0         \n",
      "_________________________________________________________________\n",
      "dense (Dense)                (None, 512)               9437696   \n",
      "_________________________________________________________________\n",
      "dense_1 (Dense)              (None, 4)                 2052      \n",
      "=================================================================\n",
      "Total params: 9,537,188\n",
      "Trainable params: 9,537,188\n",
      "Non-trainable params: 0\n",
      "_________________________________________________________________\n"
     ]
    }
   ],
   "source": [
    "model.summary()"
   ]
  },
  {
   "cell_type": "code",
   "execution_count": 6,
   "id": "bc077cb0",
   "metadata": {},
   "outputs": [
    {
     "name": "stdout",
     "output_type": "stream",
     "text": [
      "10/10 [==============================] - 1s 110ms/step - loss: 0.8344 - accuracy: 0.8300\n"
     ]
    },
    {
     "data": {
      "text/plain": [
       "[0.8343594670295715, 0.8299999833106995]"
      ]
     },
     "execution_count": 6,
     "metadata": {},
     "output_type": "execute_result"
    }
   ],
   "source": [
    "model.evaluate(X_test_scaled,y_test)"
   ]
  },
  {
   "cell_type": "code",
   "execution_count": null,
   "id": "3170408a",
   "metadata": {},
   "outputs": [],
   "source": []
  }
 ],
 "metadata": {
  "kernelspec": {
   "display_name": "Python 3 (ipykernel)",
   "language": "python",
   "name": "python3"
  },
  "language_info": {
   "codemirror_mode": {
    "name": "ipython",
    "version": 3
   },
   "file_extension": ".py",
   "mimetype": "text/x-python",
   "name": "python",
   "nbconvert_exporter": "python",
   "pygments_lexer": "ipython3",
   "version": "3.9.12"
  }
 },
 "nbformat": 4,
 "nbformat_minor": 5
}
